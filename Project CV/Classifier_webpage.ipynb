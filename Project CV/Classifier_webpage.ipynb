{
  "nbformat": 4,
  "nbformat_minor": 0,
  "metadata": {
    "colab": {
      "provenance": []
    },
    "kernelspec": {
      "name": "python3",
      "display_name": "Python 3"
    },
    "language_info": {
      "name": "python"
    }
  },
  "cells": [
    {
      "cell_type": "code",
      "source": [
        "# Create the templates folder\n",
        "!mkdir templates\n",
        "'''\n",
        "# Write the index.html file content\n",
        "index_html_content = \"\"\"\n",
        "<!DOCTYPE html>\n",
        "<html lang=\"en\">\n",
        "<head>\n",
        "    <meta charset=\"UTF-8\">\n",
        "    <meta name=\"viewport\" content=\"width=device-width, initial-scale=1.0\">\n",
        "    <title>Image Classifier</title>\n",
        "</head>\n",
        "<body>\n",
        "    <h1>Image Classifier</h1>\n",
        "    <form id=\"upload-form\" action=\"/predict\" method=\"post\" enctype=\"multipart/form-data\">\n",
        "        <input type=\"file\" name=\"file\" accept=\"image/*\" required>\n",
        "        <button type=\"submit\">Classify</button>\n",
        "    </form>\n",
        "    <div id=\"result\">\n",
        "        <img id=\"uploaded-image\" src=\"\" alt=\"Uploaded Image\">\n",
        "        <p id=\"predicted-class\"></p>\n",
        "    </div>\n",
        "</body>\n",
        "<script>\n",
        "    document.getElementById('upload-form').addEventListener('submit', async function (e) {\n",
        "        e.preventDefault();\n",
        "        const formData = new FormData(this);\n",
        "\n",
        "        try {\n",
        "            const response = await fetch('/predict', {\n",
        "                method: 'POST',\n",
        "                body: formData\n",
        "            });\n",
        "\n",
        "            const result = await response.json();\n",
        "            document.getElementById('uploaded-image').src = URL.createObjectURL(formData.get('file'));\n",
        "            document.getElementById('predicted-class').innerText = `Predicted Class: ${result.class}`;\n",
        "        } catch (error) {\n",
        "            console.error('Error:', error);\n",
        "        }\n",
        "    });\n",
        "</script>\n",
        "</html>\n",
        "\"\"\"\n",
        "'''\n",
        "\n",
        "index_html_content = \"\"\"\n",
        "<!DOCTYPE html>\n",
        "<html lang=\"en\">\n",
        "<head>\n",
        "    <meta charset=\"UTF-8\">\n",
        "    <meta name=\"viewport\" content=\"width=device-width, initial-scale=1.0\">\n",
        "    <title>Image Classifier</title>\n",
        "    <style>\n",
        "        body {\n",
        "            font-family: 'Arial', sans-serif;\n",
        "            margin: 20px;\n",
        "            text-align: center;\n",
        "        }\n",
        "\n",
        "        h1 {\n",
        "            color: #333;\n",
        "        }\n",
        "\n",
        "        form {\n",
        "            margin-top: 20px;\n",
        "        }\n",
        "\n",
        "        input[type=\"file\"] {\n",
        "            display: none;\n",
        "        }\n",
        "\n",
        "        label {\n",
        "            background-color: #3498db;\n",
        "            color: #fff;\n",
        "            padding: 10px 15px;\n",
        "            cursor: pointer;\n",
        "            border-radius: 5px;\n",
        "        }\n",
        "\n",
        "        button {\n",
        "            background-color: #2ecc71;\n",
        "            color: #fff;\n",
        "            padding: 10px 15px;\n",
        "            border: none;\n",
        "            cursor: pointer;\n",
        "            border-radius: 5px;\n",
        "        }\n",
        "\n",
        "        #result {\n",
        "            margin-top: 20px;\n",
        "        }\n",
        "\n",
        "        img {\n",
        "            max-width: 100%;\n",
        "            height: auto;\n",
        "            margin-top: 10px;\n",
        "        }\n",
        "    </style>\n",
        "</head>\n",
        "<body>\n",
        "    <h1>Image Classifier</h1>\n",
        "    <form id=\"upload-form\" action=\"/predict\" method=\"post\" enctype=\"multipart/form-data\">\n",
        "        <label for=\"file\">Choose an image</label>\n",
        "        <input type=\"file\" id=\"file\" name=\"file\" accept=\"image/*\" required>\n",
        "        <button type=\"submit\">Classify</button>\n",
        "    </form>\n",
        "    <div id=\"result\">\n",
        "        <img id=\"uploaded-image\" src=\"\" alt=\"Uploaded Image\">\n",
        "        <p id=\"predicted-class\"></p>\n",
        "    </div>\n",
        "\n",
        "    <script>\n",
        "        document.getElementById('upload-form').addEventListener('submit', async function (e) {\n",
        "            e.preventDefault();\n",
        "            const formData = new FormData(this);\n",
        "\n",
        "            try {\n",
        "                const response = await fetch('/predict', {\n",
        "                    method: 'POST',\n",
        "                    body: formData\n",
        "                });\n",
        "\n",
        "                const result = await response.json();\n",
        "                document.getElementById('uploaded-image').src = URL.createObjectURL(formData.get('file'));\n",
        "                document.getElementById('predicted-class').innerText = `Predicted Class: ${result.class}`;\n",
        "            } catch (error) {\n",
        "                console.error('Error:', error);\n",
        "            }\n",
        "        });\n",
        "    </script>\n",
        "</body>\n",
        "</html>\n",
        "\n",
        "\"\"\"\n",
        "# Write the content to the index.html file\n",
        "with open('/content/templates/index.html', 'w') as file:\n",
        "    file.write(index_html_content)"
      ],
      "metadata": {
        "id": "Kjg3aiTm9scD"
      },
      "execution_count": null,
      "outputs": []
    },
    {
      "cell_type": "code",
      "source": [
        "!wget https://bin.equinox.io/c/4VmDzA7iaHb/ngrok-stable-linux-amd64.zip\n",
        "!unzip ngrok-stable-linux-amd64.zip"
      ],
      "metadata": {
        "colab": {
          "base_uri": "https://localhost:8080/"
        },
        "id": "4lYWi1v191W4",
        "outputId": "0d09bd3d-e9a7-414d-b8c8-ad635d6a6225"
      },
      "execution_count": null,
      "outputs": [
        {
          "output_type": "stream",
          "name": "stdout",
          "text": [
            "--2023-11-28 04:02:28--  https://bin.equinox.io/c/4VmDzA7iaHb/ngrok-stable-linux-amd64.zip\n",
            "Resolving bin.equinox.io (bin.equinox.io)... 18.205.222.128, 54.161.241.46, 52.202.168.65, ...\n",
            "Connecting to bin.equinox.io (bin.equinox.io)|18.205.222.128|:443... connected.\n",
            "HTTP request sent, awaiting response... 200 OK\n",
            "Length: 13921656 (13M) [application/octet-stream]\n",
            "Saving to: ‘ngrok-stable-linux-amd64.zip’\n",
            "\n",
            "ngrok-stable-linux- 100%[===================>]  13.28M  68.2MB/s    in 0.2s    \n",
            "\n",
            "2023-11-28 04:02:28 (68.2 MB/s) - ‘ngrok-stable-linux-amd64.zip’ saved [13921656/13921656]\n",
            "\n",
            "Archive:  ngrok-stable-linux-amd64.zip\n",
            "  inflating: ngrok                   \n"
          ]
        }
      ]
    },
    {
      "cell_type": "code",
      "source": [
        "!./ngrok authtoken 2YjYYjR5EpkuQHC53pm4yp9t8sP_22V3Vxd38MF6ZcQCqhgJx"
      ],
      "metadata": {
        "colab": {
          "base_uri": "https://localhost:8080/"
        },
        "id": "Q7yKo_HE95Hl",
        "outputId": "5a2302c4-e20e-4c67-b084-d3776361157a"
      },
      "execution_count": null,
      "outputs": [
        {
          "output_type": "stream",
          "name": "stdout",
          "text": [
            "Authtoken saved to configuration file: /root/.ngrok2/ngrok.yml\n"
          ]
        }
      ]
    },
    {
      "cell_type": "code",
      "source": [
        "!pkill ngrok"
      ],
      "metadata": {
        "id": "yxAVeDFu97Lh"
      },
      "execution_count": null,
      "outputs": []
    },
    {
      "cell_type": "code",
      "source": [
        "!pip install flask\n",
        "!pip install flask-ngrok"
      ],
      "metadata": {
        "id": "yYoHrZo_-IAJ"
      },
      "execution_count": null,
      "outputs": []
    },
    {
      "cell_type": "code",
      "source": [
        "mapping={0:'Apple___Apple_scab',1:'Apple___Black_rot',2:'Apple___Cedar_apple_rust',3:'Apple___healthy',\n",
        "         4:'Blueberry___healthy',5:'Cherry_(including_sour)___healthy',6:'Cherry_(including_sour)___Powdery_mildew',\n",
        "         7:'Corn_(maize)___Cercospora_leaf_spot Gray_leaf_spot',8:'Corn_(maize)___Common_rust_',\n",
        "         9:'Corn_(maize)___healthy',10:'Corn_(maize)___Northern_Leaf_Blight',11:'Grape___Black_rot',12:'Grape___Esca_(Black_Measles)',\n",
        "         13:'Grape___healthy',14:'Grape___Leaf_blight_(Isariopsis_Leaf_Spot)',15:'Orange___Haunglongbing_(Citrus_greening)',16:'Peach___Bacterial_spot',\n",
        "         17:'Peach___healthy',18:'Pepper,_bell___Bacterial_spot',19:'Pepper,_bell___healthy',20:'Potato___Early_blight',\n",
        "         21:'Potato___healthy',22:'Potato___Late_blight',23:'Raspberry___healthy',24:'Soybean___healthy',\n",
        "         25:'Squash___Powdery_mildew',26:'Strawberry___healthy',27:'Strawberry___Leaf_scorch',28:'Tomato___Bacterial_spot',\n",
        "         29:'Tomato___Early_blight',30:'Tomato___healthy',31:'Tomato___Late_blight',32:'Tomato___Leaf_Mold',\n",
        "         33:'Tomato___Septoria_leaf_spot',34:'Tomato___Spider_mites Two-spotted_spider_mite',35:'Tomato___Target_Spot',\n",
        "         36:'Tomato___Tomato_mosaic_virus',37:'Tomato___Tomato_Yellow_Leaf_Curl_Virus'}"
      ],
      "metadata": {
        "id": "mFQlrsSPZSU6"
      },
      "execution_count": null,
      "outputs": []
    },
    {
      "cell_type": "code",
      "execution_count": null,
      "metadata": {
        "colab": {
          "base_uri": "https://localhost:8080/"
        },
        "id": "Ads1iJ5x9q9E",
        "outputId": "14436d41-e96a-4667-b751-f2071e130ffa"
      },
      "outputs": [
        {
          "output_type": "stream",
          "name": "stdout",
          "text": [
            " * Serving Flask app '__main__'\n",
            " * Debug mode: off\n"
          ]
        },
        {
          "output_type": "stream",
          "name": "stderr",
          "text": [
            "INFO:werkzeug:\u001b[31m\u001b[1mWARNING: This is a development server. Do not use it in a production deployment. Use a production WSGI server instead.\u001b[0m\n",
            " * Running on http://127.0.0.1:5000\n",
            "INFO:werkzeug:\u001b[33mPress CTRL+C to quit\u001b[0m\n"
          ]
        },
        {
          "output_type": "stream",
          "name": "stdout",
          "text": [
            " * Running on http://b487-35-186-177-245.ngrok-free.app\n",
            " * Traffic stats available on http://127.0.0.1:4040\n"
          ]
        },
        {
          "output_type": "stream",
          "name": "stderr",
          "text": [
            "INFO:werkzeug:127.0.0.1 - - [28/Nov/2023 04:06:53] \"GET / HTTP/1.1\" 200 -\n",
            "INFO:werkzeug:127.0.0.1 - - [28/Nov/2023 04:06:53] \"\u001b[33mGET /favicon.ico HTTP/1.1\u001b[0m\" 404 -\n"
          ]
        },
        {
          "output_type": "stream",
          "name": "stdout",
          "text": [
            "1/1 [==============================] - 1s 995ms/step\n"
          ]
        },
        {
          "output_type": "stream",
          "name": "stderr",
          "text": [
            "INFO:werkzeug:127.0.0.1 - - [28/Nov/2023 04:07:33] \"POST /predict HTTP/1.1\" 200 -\n"
          ]
        }
      ],
      "source": [
        "from flask import Flask, render_template, request, jsonify\n",
        "from flask_ngrok import run_with_ngrok\n",
        "import tensorflow as tf\n",
        "from tensorflow.keras.preprocessing import image\n",
        "from tensorflow.keras.applications.mobilenet_v2 import MobileNetV2, preprocess_input, decode_predictions\n",
        "import numpy as np\n",
        "\n",
        "app = Flask(__name__)\n",
        "run_with_ngrok(app)\n",
        "\n",
        "#model1 = tf.keras.models.load_model('/content/LD_cnn_model.h5')\n",
        "#model2 = tf.keras.models.load_model('/content/LD_VGG16_model.h5')\n",
        "model3 = tf.keras.models.load_model('/content/LD_MobileNetV2_model.h5')\n",
        "\n",
        "model = model3\n",
        "def preprocess_image(image_path):\n",
        "    # Adjust preprocessing steps based on your model requirements\n",
        "    img = image.load_img(image_path, target_size=(128, 128))\n",
        "    img_array = image.img_to_array(img)\n",
        "    img_array = np.expand_dims(img_array, axis=0)\n",
        "    img_array = preprocess_input(img_array)  # Adjust if needed\n",
        "    return img_array\n",
        "\n",
        "@app.route('/')\n",
        "def index():\n",
        "    return render_template('index.html')\n",
        "'''\n",
        "@app.route('/predict', methods=['POST'])\n",
        "def predict():\n",
        "    if 'file' not in request.files:\n",
        "        return jsonify({'error': 'No file part'})\n",
        "\n",
        "    file = request.files['file']\n",
        "\n",
        "    if file.filename == '':\n",
        "        return jsonify({'error': 'No selected file'})\n",
        "\n",
        "    try:\n",
        "        img_path = 'uploaded_image.jpg'  # Save the uploaded image temporarily\n",
        "        file.save(img_path)\n",
        "        img_array = preprocess_image(img_path)\n",
        "        predictions = model.predict(img_array)\n",
        "\n",
        "        # Process predictions for multi-class classification\n",
        "        predicted_classes = np.argmax(predictions, axis=1)\n",
        "        predicted_class = int(predicted_classes[0])\n",
        "\n",
        "        return jsonify({'class': predicted_class})\n",
        "\n",
        "    except Exception as e:\n",
        "        return jsonify({'error': str(e)})\n",
        "'''\n",
        "\n",
        "@app.route('/predict', methods=['POST'])\n",
        "def predict():\n",
        "    if 'file' not in request.files:\n",
        "        return jsonify({'error': 'No file part'})\n",
        "\n",
        "    file = request.files['file']\n",
        "\n",
        "    if file.filename == '':\n",
        "        return jsonify({'error': 'No selected file'})\n",
        "\n",
        "    try:\n",
        "        img_path = 'uploaded_image.jpg'  # Save the uploaded image temporarily\n",
        "        file.save(img_path)\n",
        "        img_array = preprocess_image(img_path)\n",
        "        predictions = model.predict(img_array)\n",
        "\n",
        "        # Map the numeric index to class name using a dictionary\n",
        "        class_mapping = mapping  # Adjust as per your model's class indices\n",
        "        predicted_class_index = np.argmax(predictions)\n",
        "        predicted_class = class_mapping.get(predicted_class_index, 'Unknown')\n",
        "\n",
        "        return jsonify({'class': predicted_class})\n",
        "\n",
        "    except Exception as e:\n",
        "        return jsonify({'error': str(e)})\n",
        "\n",
        "if __name__ == '__main__':\n",
        "    app.run()\n",
        "\n"
      ]
    },
    {
      "cell_type": "code",
      "source": [
        "label={0:'Apple___Apple_scab',1:'Apple___Black_rot',2:'Apple___Cedar_apple_rust',3:'Apple___healthy',\n",
        "       4:'Blueberry___healthy',5:'Cherry_(including_sour)___healthy',6:'Cherry_(including_sour)___Powdery_mildew',\n",
        "       7:'Corn_(maize)___Cercospora_leaf_spot Gray_leaf_spot',8:'Corn_(maize)___Common_rust_',\n",
        "       9:'Corn_(maize)___healthy',10:'Corn_(maize)___Northern_Leaf_Blight',11:'Grape___Black_rot',12:'Grape___Esca_(Black_Measles)',\n",
        "       13:'Grape___healthy',14:'Grape___Leaf_blight_(Isariopsis_Leaf_Spot)',15:'Orange___Haunglongbing_(Citrus_greening)',16:'Peach___Bacterial_spot',\n",
        "       17:'Peach___healthy',18:'Pepper,_bell___Bacterial_spot',19:'Pepper,_bell___healthy',20:'Potato___Early_blight',\n",
        "       21:'Potato___healthy',22:'Potato___Late_blight',23:'Raspberry___healthy',24:'Soybean___healthy',\n",
        "       25:'Squash___Powdery_mildew',26:'Strawberry___healthy',27:'Strawberry___Leaf_scorch',28:'Tomato___Bacterial_spot',\n",
        "       29:'Tomato___Early_blight',30:'Tomato___healthy',31:'Tomato___Late_blight',32:'Tomato___Leaf_Mold',\n",
        "       33:'Tomato___Septoria_leaf_spot',34:'Tomato___Spider_mites Two-spotted_spider_mite',35:'Tomato___Target_Spot',\n",
        "       36:'Tomato___Tomato_mosaic_virus',37:'Tomato___Tomato_Yellow_Leaf_Curl_Virus'}"
      ],
      "metadata": {
        "id": "nZXC9ftq-Cv0"
      },
      "execution_count": null,
      "outputs": []
    },
    {
      "cell_type": "code",
      "source": [],
      "metadata": {
        "id": "DqfUZddXZRBe"
      },
      "execution_count": null,
      "outputs": []
    }
  ]
}